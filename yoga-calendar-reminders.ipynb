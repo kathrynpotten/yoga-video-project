{
 "cells": [
  {
   "cell_type": "markdown",
   "id": "ad95a7f3",
   "metadata": {},
   "source": [
    "# Yoga Calendar Reminders\n",
    "Program to select 30 day yoga journey and update user on specified days with video length"
   ]
  },
  {
   "cell_type": "code",
   "execution_count": 1,
   "id": "656d153d",
   "metadata": {},
   "outputs": [],
   "source": [
    "from ipywidgets import interact, interactive, fixed\n",
    "import ipywidgets as widgets\n",
    "from IPython.display import display, clear_output"
   ]
  },
  {
   "cell_type": "code",
   "execution_count": 17,
   "id": "977a1d79",
   "metadata": {},
   "outputs": [
    {
     "data": {
      "application/vnd.jupyter.widget-view+json": {
       "model_id": "f26e57952f064120bb5f951fd4d2b909",
       "version_major": 2,
       "version_minor": 0
      },
      "text/plain": [
       "Dropdown(description='Yoga Calendar:', options=('True', 'Dedicate', 'Revolution'), value='True')"
      ]
     },
     "metadata": {},
     "output_type": "display_data"
    }
   ],
   "source": [
    "widgets.Dropdown(options = ['True', 'Dedicate','Revolution'], value = 'True', description='Yoga Calendar:')"
   ]
  },
  {
   "cell_type": "code",
   "execution_count": 23,
   "id": "c1a84eef",
   "metadata": {},
   "outputs": [],
   "source": [
    "def f(choice):\n",
    "    print(f\"You have selected {choice} yoga calendar\")"
   ]
  },
  {
   "cell_type": "code",
   "execution_count": 24,
   "id": "e29f54d3",
   "metadata": {},
   "outputs": [
    {
     "data": {
      "application/vnd.jupyter.widget-view+json": {
       "model_id": "792427d2804b4c24b89ae87211e6bb50",
       "version_major": 2,
       "version_minor": 0
      },
      "text/plain": [
       "interactive(children=(Dropdown(description='Yoga Calendar:', options=('True', 'Dedicate', 'Revolution'), value…"
      ]
     },
     "metadata": {},
     "output_type": "display_data"
    },
    {
     "data": {
      "text/plain": [
       "<function __main__.f(choice)>"
      ]
     },
     "execution_count": 24,
     "metadata": {},
     "output_type": "execute_result"
    }
   ],
   "source": [
    "interact(f, choice = widgets.Dropdown(options = ['True', 'Dedicate','Revolution'], value = 'True', description='Yoga Calendar:'))"
   ]
  },
  {
   "cell_type": "code",
   "execution_count": 60,
   "id": "ef1a85ca",
   "metadata": {},
   "outputs": [
    {
     "data": {
      "application/vnd.jupyter.widget-view+json": {
       "model_id": "fd789448b64340e28160655112f0ffae",
       "version_major": 2,
       "version_minor": 0
      },
      "text/plain": [
       "Dropdown(description='Yoga Calendar:', options=('True', 'Dedicate', 'Revolution'), value='True')"
      ]
     },
     "metadata": {},
     "output_type": "display_data"
    }
   ],
   "source": [
    "options = ['True', 'Dedicate','Revolution']\n",
    "default = 'True'\n",
    "\n",
    "output = widgets.Output()\n",
    "calendar = widgets.Dropdown(options = options, value = default, description='Yoga Calendar:')\n",
    "display(calendar)\n",
    "\n",
    "def select_calendar():\n",
    "    choice = calendar.value\n"
   ]
  },
  {
   "cell_type": "code",
   "execution_count": 2,
   "id": "554e0714",
   "metadata": {},
   "outputs": [],
   "source": [
    "import pywhatkit\n",
    "import pyautogui as pg\n",
    "import time"
   ]
  },
  {
   "cell_type": "code",
   "execution_count": 13,
   "id": "d2806281",
   "metadata": {},
   "outputs": [],
   "source": [
    "pywhatkit.sendwhatmsg_instantly(\"+44...\", \"#message\", 30)\n",
    "pg.click(1800, 2000)\n",
    "time.sleep(2)\n",
    "pg.press(\"enter\")\n",
    "    "
   ]
  },
  {
   "cell_type": "code",
   "execution_count": null,
   "id": "7fd7a33f",
   "metadata": {},
   "outputs": [],
   "source": []
  }
 ],
 "metadata": {
  "kernelspec": {
   "display_name": "Python 3 (ipykernel)",
   "language": "python",
   "name": "python3"
  },
  "language_info": {
   "codemirror_mode": {
    "name": "ipython",
    "version": 3
   },
   "file_extension": ".py",
   "mimetype": "text/x-python",
   "name": "python",
   "nbconvert_exporter": "python",
   "pygments_lexer": "ipython3",
   "version": "3.10.9"
  }
 },
 "nbformat": 4,
 "nbformat_minor": 5
}
